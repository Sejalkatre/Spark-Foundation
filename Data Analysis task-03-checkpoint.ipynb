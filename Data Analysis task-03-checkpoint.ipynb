{
 "cells": [
  {
   "cell_type": "markdown",
   "id": "6834aeeb",
   "metadata": {},
   "source": [
    "# Task - 3\n",
    "# Exploratory Data Analysis - Retail Store\n",
    "# By - Sejal Katre"
   ]
  },
  {
   "cell_type": "code",
   "execution_count": 1,
   "id": "75e5a9e4",
   "metadata": {},
   "outputs": [],
   "source": [
    "# here we are finding some questions answer as follows:\n",
    "\n",
    "# Que1 - Trying to find some weak areas where we can make profits\n",
    "# Que2 - we are finding business problem by exploring this data"
   ]
  },
  {
   "cell_type": "markdown",
   "id": "7464decd",
   "metadata": {},
   "source": [
    "### We are importing some libraries :"
   ]
  },
  {
   "cell_type": "code",
   "execution_count": 2,
   "id": "6e48738b",
   "metadata": {},
   "outputs": [],
   "source": [
    "import pandas as pd "
   ]
  },
  {
   "cell_type": "code",
   "execution_count": 3,
   "id": "23bd32e9",
   "metadata": {},
   "outputs": [],
   "source": [
    "# reading dataset\n",
    "df = pd.read_csv('SampleSuperstore.csv')"
   ]
  },
  {
   "cell_type": "code",
   "execution_count": 4,
   "id": "d4f3e9cc",
   "metadata": {},
   "outputs": [
    {
     "data": {
      "text/html": [
       "<div>\n",
       "<style scoped>\n",
       "    .dataframe tbody tr th:only-of-type {\n",
       "        vertical-align: middle;\n",
       "    }\n",
       "\n",
       "    .dataframe tbody tr th {\n",
       "        vertical-align: top;\n",
       "    }\n",
       "\n",
       "    .dataframe thead th {\n",
       "        text-align: right;\n",
       "    }\n",
       "</style>\n",
       "<table border=\"1\" class=\"dataframe\">\n",
       "  <thead>\n",
       "    <tr style=\"text-align: right;\">\n",
       "      <th></th>\n",
       "      <th>Ship Mode</th>\n",
       "      <th>Segment</th>\n",
       "      <th>Country</th>\n",
       "      <th>City</th>\n",
       "      <th>State</th>\n",
       "      <th>Postal Code</th>\n",
       "      <th>Region</th>\n",
       "      <th>Category</th>\n",
       "      <th>Sub-Category</th>\n",
       "      <th>Sales</th>\n",
       "      <th>Quantity</th>\n",
       "      <th>Discount</th>\n",
       "      <th>Profit</th>\n",
       "    </tr>\n",
       "  </thead>\n",
       "  <tbody>\n",
       "    <tr>\n",
       "      <th>0</th>\n",
       "      <td>Second Class</td>\n",
       "      <td>Consumer</td>\n",
       "      <td>United States</td>\n",
       "      <td>Henderson</td>\n",
       "      <td>Kentucky</td>\n",
       "      <td>42420</td>\n",
       "      <td>South</td>\n",
       "      <td>Furniture</td>\n",
       "      <td>Bookcases</td>\n",
       "      <td>261.9600</td>\n",
       "      <td>2</td>\n",
       "      <td>0.00</td>\n",
       "      <td>41.9136</td>\n",
       "    </tr>\n",
       "    <tr>\n",
       "      <th>1</th>\n",
       "      <td>Second Class</td>\n",
       "      <td>Consumer</td>\n",
       "      <td>United States</td>\n",
       "      <td>Henderson</td>\n",
       "      <td>Kentucky</td>\n",
       "      <td>42420</td>\n",
       "      <td>South</td>\n",
       "      <td>Furniture</td>\n",
       "      <td>Chairs</td>\n",
       "      <td>731.9400</td>\n",
       "      <td>3</td>\n",
       "      <td>0.00</td>\n",
       "      <td>219.5820</td>\n",
       "    </tr>\n",
       "    <tr>\n",
       "      <th>2</th>\n",
       "      <td>Second Class</td>\n",
       "      <td>Corporate</td>\n",
       "      <td>United States</td>\n",
       "      <td>Los Angeles</td>\n",
       "      <td>California</td>\n",
       "      <td>90036</td>\n",
       "      <td>West</td>\n",
       "      <td>Office Supplies</td>\n",
       "      <td>Labels</td>\n",
       "      <td>14.6200</td>\n",
       "      <td>2</td>\n",
       "      <td>0.00</td>\n",
       "      <td>6.8714</td>\n",
       "    </tr>\n",
       "    <tr>\n",
       "      <th>3</th>\n",
       "      <td>Standard Class</td>\n",
       "      <td>Consumer</td>\n",
       "      <td>United States</td>\n",
       "      <td>Fort Lauderdale</td>\n",
       "      <td>Florida</td>\n",
       "      <td>33311</td>\n",
       "      <td>South</td>\n",
       "      <td>Furniture</td>\n",
       "      <td>Tables</td>\n",
       "      <td>957.5775</td>\n",
       "      <td>5</td>\n",
       "      <td>0.45</td>\n",
       "      <td>-383.0310</td>\n",
       "    </tr>\n",
       "    <tr>\n",
       "      <th>4</th>\n",
       "      <td>Standard Class</td>\n",
       "      <td>Consumer</td>\n",
       "      <td>United States</td>\n",
       "      <td>Fort Lauderdale</td>\n",
       "      <td>Florida</td>\n",
       "      <td>33311</td>\n",
       "      <td>South</td>\n",
       "      <td>Office Supplies</td>\n",
       "      <td>Storage</td>\n",
       "      <td>22.3680</td>\n",
       "      <td>2</td>\n",
       "      <td>0.20</td>\n",
       "      <td>2.5164</td>\n",
       "    </tr>\n",
       "  </tbody>\n",
       "</table>\n",
       "</div>"
      ],
      "text/plain": [
       "        Ship Mode    Segment        Country             City       State  \\\n",
       "0    Second Class   Consumer  United States        Henderson    Kentucky   \n",
       "1    Second Class   Consumer  United States        Henderson    Kentucky   \n",
       "2    Second Class  Corporate  United States      Los Angeles  California   \n",
       "3  Standard Class   Consumer  United States  Fort Lauderdale     Florida   \n",
       "4  Standard Class   Consumer  United States  Fort Lauderdale     Florida   \n",
       "\n",
       "   Postal Code Region         Category Sub-Category     Sales  Quantity  \\\n",
       "0        42420  South        Furniture    Bookcases  261.9600         2   \n",
       "1        42420  South        Furniture       Chairs  731.9400         3   \n",
       "2        90036   West  Office Supplies       Labels   14.6200         2   \n",
       "3        33311  South        Furniture       Tables  957.5775         5   \n",
       "4        33311  South  Office Supplies      Storage   22.3680         2   \n",
       "\n",
       "   Discount    Profit  \n",
       "0      0.00   41.9136  \n",
       "1      0.00  219.5820  \n",
       "2      0.00    6.8714  \n",
       "3      0.45 -383.0310  \n",
       "4      0.20    2.5164  "
      ]
     },
     "execution_count": 4,
     "metadata": {},
     "output_type": "execute_result"
    }
   ],
   "source": [
    "df.head()"
   ]
  },
  {
   "cell_type": "code",
   "execution_count": 5,
   "id": "799245bc",
   "metadata": {},
   "outputs": [
    {
     "data": {
      "text/html": [
       "<div>\n",
       "<style scoped>\n",
       "    .dataframe tbody tr th:only-of-type {\n",
       "        vertical-align: middle;\n",
       "    }\n",
       "\n",
       "    .dataframe tbody tr th {\n",
       "        vertical-align: top;\n",
       "    }\n",
       "\n",
       "    .dataframe thead th {\n",
       "        text-align: right;\n",
       "    }\n",
       "</style>\n",
       "<table border=\"1\" class=\"dataframe\">\n",
       "  <thead>\n",
       "    <tr style=\"text-align: right;\">\n",
       "      <th></th>\n",
       "      <th>Ship Mode</th>\n",
       "      <th>Segment</th>\n",
       "      <th>Country</th>\n",
       "      <th>City</th>\n",
       "      <th>State</th>\n",
       "      <th>Postal Code</th>\n",
       "      <th>Region</th>\n",
       "      <th>Category</th>\n",
       "      <th>Sub-Category</th>\n",
       "      <th>Sales</th>\n",
       "      <th>Quantity</th>\n",
       "      <th>Discount</th>\n",
       "      <th>Profit</th>\n",
       "    </tr>\n",
       "  </thead>\n",
       "  <tbody>\n",
       "    <tr>\n",
       "      <th>9989</th>\n",
       "      <td>Second Class</td>\n",
       "      <td>Consumer</td>\n",
       "      <td>United States</td>\n",
       "      <td>Miami</td>\n",
       "      <td>Florida</td>\n",
       "      <td>33180</td>\n",
       "      <td>South</td>\n",
       "      <td>Furniture</td>\n",
       "      <td>Furnishings</td>\n",
       "      <td>25.248</td>\n",
       "      <td>3</td>\n",
       "      <td>0.2</td>\n",
       "      <td>4.1028</td>\n",
       "    </tr>\n",
       "    <tr>\n",
       "      <th>9990</th>\n",
       "      <td>Standard Class</td>\n",
       "      <td>Consumer</td>\n",
       "      <td>United States</td>\n",
       "      <td>Costa Mesa</td>\n",
       "      <td>California</td>\n",
       "      <td>92627</td>\n",
       "      <td>West</td>\n",
       "      <td>Furniture</td>\n",
       "      <td>Furnishings</td>\n",
       "      <td>91.960</td>\n",
       "      <td>2</td>\n",
       "      <td>0.0</td>\n",
       "      <td>15.6332</td>\n",
       "    </tr>\n",
       "    <tr>\n",
       "      <th>9991</th>\n",
       "      <td>Standard Class</td>\n",
       "      <td>Consumer</td>\n",
       "      <td>United States</td>\n",
       "      <td>Costa Mesa</td>\n",
       "      <td>California</td>\n",
       "      <td>92627</td>\n",
       "      <td>West</td>\n",
       "      <td>Technology</td>\n",
       "      <td>Phones</td>\n",
       "      <td>258.576</td>\n",
       "      <td>2</td>\n",
       "      <td>0.2</td>\n",
       "      <td>19.3932</td>\n",
       "    </tr>\n",
       "    <tr>\n",
       "      <th>9992</th>\n",
       "      <td>Standard Class</td>\n",
       "      <td>Consumer</td>\n",
       "      <td>United States</td>\n",
       "      <td>Costa Mesa</td>\n",
       "      <td>California</td>\n",
       "      <td>92627</td>\n",
       "      <td>West</td>\n",
       "      <td>Office Supplies</td>\n",
       "      <td>Paper</td>\n",
       "      <td>29.600</td>\n",
       "      <td>4</td>\n",
       "      <td>0.0</td>\n",
       "      <td>13.3200</td>\n",
       "    </tr>\n",
       "    <tr>\n",
       "      <th>9993</th>\n",
       "      <td>Second Class</td>\n",
       "      <td>Consumer</td>\n",
       "      <td>United States</td>\n",
       "      <td>Westminster</td>\n",
       "      <td>California</td>\n",
       "      <td>92683</td>\n",
       "      <td>West</td>\n",
       "      <td>Office Supplies</td>\n",
       "      <td>Appliances</td>\n",
       "      <td>243.160</td>\n",
       "      <td>2</td>\n",
       "      <td>0.0</td>\n",
       "      <td>72.9480</td>\n",
       "    </tr>\n",
       "  </tbody>\n",
       "</table>\n",
       "</div>"
      ],
      "text/plain": [
       "           Ship Mode   Segment        Country         City       State  \\\n",
       "9989    Second Class  Consumer  United States        Miami     Florida   \n",
       "9990  Standard Class  Consumer  United States   Costa Mesa  California   \n",
       "9991  Standard Class  Consumer  United States   Costa Mesa  California   \n",
       "9992  Standard Class  Consumer  United States   Costa Mesa  California   \n",
       "9993    Second Class  Consumer  United States  Westminster  California   \n",
       "\n",
       "      Postal Code Region         Category Sub-Category    Sales  Quantity  \\\n",
       "9989        33180  South        Furniture  Furnishings   25.248         3   \n",
       "9990        92627   West        Furniture  Furnishings   91.960         2   \n",
       "9991        92627   West       Technology       Phones  258.576         2   \n",
       "9992        92627   West  Office Supplies        Paper   29.600         4   \n",
       "9993        92683   West  Office Supplies   Appliances  243.160         2   \n",
       "\n",
       "      Discount   Profit  \n",
       "9989       0.2   4.1028  \n",
       "9990       0.0  15.6332  \n",
       "9991       0.2  19.3932  \n",
       "9992       0.0  13.3200  \n",
       "9993       0.0  72.9480  "
      ]
     },
     "execution_count": 5,
     "metadata": {},
     "output_type": "execute_result"
    }
   ],
   "source": [
    "df.tail()"
   ]
  },
  {
   "cell_type": "code",
   "execution_count": 6,
   "id": "9d1010ed",
   "metadata": {},
   "outputs": [
    {
     "data": {
      "text/html": [
       "<div>\n",
       "<style scoped>\n",
       "    .dataframe tbody tr th:only-of-type {\n",
       "        vertical-align: middle;\n",
       "    }\n",
       "\n",
       "    .dataframe tbody tr th {\n",
       "        vertical-align: top;\n",
       "    }\n",
       "\n",
       "    .dataframe thead th {\n",
       "        text-align: right;\n",
       "    }\n",
       "</style>\n",
       "<table border=\"1\" class=\"dataframe\">\n",
       "  <thead>\n",
       "    <tr style=\"text-align: right;\">\n",
       "      <th></th>\n",
       "      <th>Ship Mode</th>\n",
       "      <th>Segment</th>\n",
       "      <th>Country</th>\n",
       "      <th>City</th>\n",
       "      <th>State</th>\n",
       "      <th>Postal Code</th>\n",
       "      <th>Region</th>\n",
       "      <th>Category</th>\n",
       "      <th>Sub-Category</th>\n",
       "      <th>Sales</th>\n",
       "      <th>Quantity</th>\n",
       "      <th>Discount</th>\n",
       "      <th>Profit</th>\n",
       "    </tr>\n",
       "  </thead>\n",
       "  <tbody>\n",
       "    <tr>\n",
       "      <th>9989</th>\n",
       "      <td>Second Class</td>\n",
       "      <td>Consumer</td>\n",
       "      <td>United States</td>\n",
       "      <td>Miami</td>\n",
       "      <td>Florida</td>\n",
       "      <td>33180</td>\n",
       "      <td>South</td>\n",
       "      <td>Furniture</td>\n",
       "      <td>Furnishings</td>\n",
       "      <td>25.248</td>\n",
       "      <td>3</td>\n",
       "      <td>0.2</td>\n",
       "      <td>4.1028</td>\n",
       "    </tr>\n",
       "    <tr>\n",
       "      <th>9990</th>\n",
       "      <td>Standard Class</td>\n",
       "      <td>Consumer</td>\n",
       "      <td>United States</td>\n",
       "      <td>Costa Mesa</td>\n",
       "      <td>California</td>\n",
       "      <td>92627</td>\n",
       "      <td>West</td>\n",
       "      <td>Furniture</td>\n",
       "      <td>Furnishings</td>\n",
       "      <td>91.960</td>\n",
       "      <td>2</td>\n",
       "      <td>0.0</td>\n",
       "      <td>15.6332</td>\n",
       "    </tr>\n",
       "    <tr>\n",
       "      <th>9991</th>\n",
       "      <td>Standard Class</td>\n",
       "      <td>Consumer</td>\n",
       "      <td>United States</td>\n",
       "      <td>Costa Mesa</td>\n",
       "      <td>California</td>\n",
       "      <td>92627</td>\n",
       "      <td>West</td>\n",
       "      <td>Technology</td>\n",
       "      <td>Phones</td>\n",
       "      <td>258.576</td>\n",
       "      <td>2</td>\n",
       "      <td>0.2</td>\n",
       "      <td>19.3932</td>\n",
       "    </tr>\n",
       "    <tr>\n",
       "      <th>9992</th>\n",
       "      <td>Standard Class</td>\n",
       "      <td>Consumer</td>\n",
       "      <td>United States</td>\n",
       "      <td>Costa Mesa</td>\n",
       "      <td>California</td>\n",
       "      <td>92627</td>\n",
       "      <td>West</td>\n",
       "      <td>Office Supplies</td>\n",
       "      <td>Paper</td>\n",
       "      <td>29.600</td>\n",
       "      <td>4</td>\n",
       "      <td>0.0</td>\n",
       "      <td>13.3200</td>\n",
       "    </tr>\n",
       "    <tr>\n",
       "      <th>9993</th>\n",
       "      <td>Second Class</td>\n",
       "      <td>Consumer</td>\n",
       "      <td>United States</td>\n",
       "      <td>Westminster</td>\n",
       "      <td>California</td>\n",
       "      <td>92683</td>\n",
       "      <td>West</td>\n",
       "      <td>Office Supplies</td>\n",
       "      <td>Appliances</td>\n",
       "      <td>243.160</td>\n",
       "      <td>2</td>\n",
       "      <td>0.0</td>\n",
       "      <td>72.9480</td>\n",
       "    </tr>\n",
       "  </tbody>\n",
       "</table>\n",
       "</div>"
      ],
      "text/plain": [
       "           Ship Mode   Segment        Country         City       State  \\\n",
       "9989    Second Class  Consumer  United States        Miami     Florida   \n",
       "9990  Standard Class  Consumer  United States   Costa Mesa  California   \n",
       "9991  Standard Class  Consumer  United States   Costa Mesa  California   \n",
       "9992  Standard Class  Consumer  United States   Costa Mesa  California   \n",
       "9993    Second Class  Consumer  United States  Westminster  California   \n",
       "\n",
       "      Postal Code Region         Category Sub-Category    Sales  Quantity  \\\n",
       "9989        33180  South        Furniture  Furnishings   25.248         3   \n",
       "9990        92627   West        Furniture  Furnishings   91.960         2   \n",
       "9991        92627   West       Technology       Phones  258.576         2   \n",
       "9992        92627   West  Office Supplies        Paper   29.600         4   \n",
       "9993        92683   West  Office Supplies   Appliances  243.160         2   \n",
       "\n",
       "      Discount   Profit  \n",
       "9989       0.2   4.1028  \n",
       "9990       0.0  15.6332  \n",
       "9991       0.2  19.3932  \n",
       "9992       0.0  13.3200  \n",
       "9993       0.0  72.9480  "
      ]
     },
     "execution_count": 6,
     "metadata": {},
     "output_type": "execute_result"
    }
   ],
   "source": [
    "df.tail()"
   ]
  },
  {
   "cell_type": "code",
   "execution_count": 7,
   "id": "46fe4bf7",
   "metadata": {},
   "outputs": [
    {
     "data": {
      "text/plain": [
       "(9994, 13)"
      ]
     },
     "execution_count": 7,
     "metadata": {},
     "output_type": "execute_result"
    }
   ],
   "source": [
    "df.shape"
   ]
  },
  {
   "cell_type": "code",
   "execution_count": 8,
   "id": "e575f03a",
   "metadata": {},
   "outputs": [
    {
     "data": {
      "text/plain": [
       "0             Furniture\n",
       "1             Furniture\n",
       "2       Office Supplies\n",
       "3             Furniture\n",
       "4       Office Supplies\n",
       "             ...       \n",
       "9989          Furniture\n",
       "9990          Furniture\n",
       "9991         Technology\n",
       "9992    Office Supplies\n",
       "9993    Office Supplies\n",
       "Name: Category, Length: 9994, dtype: object"
      ]
     },
     "execution_count": 8,
     "metadata": {},
     "output_type": "execute_result"
    }
   ],
   "source": [
    "df.Category"
   ]
  },
  {
   "cell_type": "code",
   "execution_count": 9,
   "id": "9b639895",
   "metadata": {},
   "outputs": [
    {
     "data": {
      "text/html": [
       "<div>\n",
       "<style scoped>\n",
       "    .dataframe tbody tr th:only-of-type {\n",
       "        vertical-align: middle;\n",
       "    }\n",
       "\n",
       "    .dataframe tbody tr th {\n",
       "        vertical-align: top;\n",
       "    }\n",
       "\n",
       "    .dataframe thead th {\n",
       "        text-align: right;\n",
       "    }\n",
       "</style>\n",
       "<table border=\"1\" class=\"dataframe\">\n",
       "  <thead>\n",
       "    <tr style=\"text-align: right;\">\n",
       "      <th></th>\n",
       "      <th>Postal Code</th>\n",
       "      <th>Sales</th>\n",
       "      <th>Quantity</th>\n",
       "      <th>Discount</th>\n",
       "      <th>Profit</th>\n",
       "    </tr>\n",
       "  </thead>\n",
       "  <tbody>\n",
       "    <tr>\n",
       "      <th>count</th>\n",
       "      <td>9994.000000</td>\n",
       "      <td>9994.000000</td>\n",
       "      <td>9994.000000</td>\n",
       "      <td>9994.000000</td>\n",
       "      <td>9994.000000</td>\n",
       "    </tr>\n",
       "    <tr>\n",
       "      <th>mean</th>\n",
       "      <td>55190.379428</td>\n",
       "      <td>229.858001</td>\n",
       "      <td>3.789574</td>\n",
       "      <td>0.156203</td>\n",
       "      <td>28.656896</td>\n",
       "    </tr>\n",
       "    <tr>\n",
       "      <th>std</th>\n",
       "      <td>32063.693350</td>\n",
       "      <td>623.245101</td>\n",
       "      <td>2.225110</td>\n",
       "      <td>0.206452</td>\n",
       "      <td>234.260108</td>\n",
       "    </tr>\n",
       "    <tr>\n",
       "      <th>min</th>\n",
       "      <td>1040.000000</td>\n",
       "      <td>0.444000</td>\n",
       "      <td>1.000000</td>\n",
       "      <td>0.000000</td>\n",
       "      <td>-6599.978000</td>\n",
       "    </tr>\n",
       "    <tr>\n",
       "      <th>25%</th>\n",
       "      <td>23223.000000</td>\n",
       "      <td>17.280000</td>\n",
       "      <td>2.000000</td>\n",
       "      <td>0.000000</td>\n",
       "      <td>1.728750</td>\n",
       "    </tr>\n",
       "    <tr>\n",
       "      <th>50%</th>\n",
       "      <td>56430.500000</td>\n",
       "      <td>54.490000</td>\n",
       "      <td>3.000000</td>\n",
       "      <td>0.200000</td>\n",
       "      <td>8.666500</td>\n",
       "    </tr>\n",
       "    <tr>\n",
       "      <th>75%</th>\n",
       "      <td>90008.000000</td>\n",
       "      <td>209.940000</td>\n",
       "      <td>5.000000</td>\n",
       "      <td>0.200000</td>\n",
       "      <td>29.364000</td>\n",
       "    </tr>\n",
       "    <tr>\n",
       "      <th>max</th>\n",
       "      <td>99301.000000</td>\n",
       "      <td>22638.480000</td>\n",
       "      <td>14.000000</td>\n",
       "      <td>0.800000</td>\n",
       "      <td>8399.976000</td>\n",
       "    </tr>\n",
       "  </tbody>\n",
       "</table>\n",
       "</div>"
      ],
      "text/plain": [
       "        Postal Code         Sales     Quantity     Discount       Profit\n",
       "count   9994.000000   9994.000000  9994.000000  9994.000000  9994.000000\n",
       "mean   55190.379428    229.858001     3.789574     0.156203    28.656896\n",
       "std    32063.693350    623.245101     2.225110     0.206452   234.260108\n",
       "min     1040.000000      0.444000     1.000000     0.000000 -6599.978000\n",
       "25%    23223.000000     17.280000     2.000000     0.000000     1.728750\n",
       "50%    56430.500000     54.490000     3.000000     0.200000     8.666500\n",
       "75%    90008.000000    209.940000     5.000000     0.200000    29.364000\n",
       "max    99301.000000  22638.480000    14.000000     0.800000  8399.976000"
      ]
     },
     "execution_count": 9,
     "metadata": {},
     "output_type": "execute_result"
    }
   ],
   "source": [
    "# Getting Information of data or we can say insight \n",
    "\n",
    "df.describe()"
   ]
  },
  {
   "cell_type": "code",
   "execution_count": 10,
   "id": "bc1cab68",
   "metadata": {},
   "outputs": [],
   "source": [
    "# Deleting unwanted columns : "
   ]
  },
  {
   "cell_type": "code",
   "execution_count": 11,
   "id": "473a8cfa",
   "metadata": {},
   "outputs": [],
   "source": [
    "df = df.drop(columns = 'Postal Code')"
   ]
  },
  {
   "cell_type": "code",
   "execution_count": 12,
   "id": "8b9b102c",
   "metadata": {},
   "outputs": [
    {
     "data": {
      "text/html": [
       "<div>\n",
       "<style scoped>\n",
       "    .dataframe tbody tr th:only-of-type {\n",
       "        vertical-align: middle;\n",
       "    }\n",
       "\n",
       "    .dataframe tbody tr th {\n",
       "        vertical-align: top;\n",
       "    }\n",
       "\n",
       "    .dataframe thead th {\n",
       "        text-align: right;\n",
       "    }\n",
       "</style>\n",
       "<table border=\"1\" class=\"dataframe\">\n",
       "  <thead>\n",
       "    <tr style=\"text-align: right;\">\n",
       "      <th></th>\n",
       "      <th>Sales</th>\n",
       "      <th>Quantity</th>\n",
       "      <th>Discount</th>\n",
       "      <th>Profit</th>\n",
       "    </tr>\n",
       "  </thead>\n",
       "  <tbody>\n",
       "    <tr>\n",
       "      <th>count</th>\n",
       "      <td>9994.000000</td>\n",
       "      <td>9994.000000</td>\n",
       "      <td>9994.000000</td>\n",
       "      <td>9994.000000</td>\n",
       "    </tr>\n",
       "    <tr>\n",
       "      <th>mean</th>\n",
       "      <td>229.858001</td>\n",
       "      <td>3.789574</td>\n",
       "      <td>0.156203</td>\n",
       "      <td>28.656896</td>\n",
       "    </tr>\n",
       "    <tr>\n",
       "      <th>std</th>\n",
       "      <td>623.245101</td>\n",
       "      <td>2.225110</td>\n",
       "      <td>0.206452</td>\n",
       "      <td>234.260108</td>\n",
       "    </tr>\n",
       "    <tr>\n",
       "      <th>min</th>\n",
       "      <td>0.444000</td>\n",
       "      <td>1.000000</td>\n",
       "      <td>0.000000</td>\n",
       "      <td>-6599.978000</td>\n",
       "    </tr>\n",
       "    <tr>\n",
       "      <th>25%</th>\n",
       "      <td>17.280000</td>\n",
       "      <td>2.000000</td>\n",
       "      <td>0.000000</td>\n",
       "      <td>1.728750</td>\n",
       "    </tr>\n",
       "    <tr>\n",
       "      <th>50%</th>\n",
       "      <td>54.490000</td>\n",
       "      <td>3.000000</td>\n",
       "      <td>0.200000</td>\n",
       "      <td>8.666500</td>\n",
       "    </tr>\n",
       "    <tr>\n",
       "      <th>75%</th>\n",
       "      <td>209.940000</td>\n",
       "      <td>5.000000</td>\n",
       "      <td>0.200000</td>\n",
       "      <td>29.364000</td>\n",
       "    </tr>\n",
       "    <tr>\n",
       "      <th>max</th>\n",
       "      <td>22638.480000</td>\n",
       "      <td>14.000000</td>\n",
       "      <td>0.800000</td>\n",
       "      <td>8399.976000</td>\n",
       "    </tr>\n",
       "  </tbody>\n",
       "</table>\n",
       "</div>"
      ],
      "text/plain": [
       "              Sales     Quantity     Discount       Profit\n",
       "count   9994.000000  9994.000000  9994.000000  9994.000000\n",
       "mean     229.858001     3.789574     0.156203    28.656896\n",
       "std      623.245101     2.225110     0.206452   234.260108\n",
       "min        0.444000     1.000000     0.000000 -6599.978000\n",
       "25%       17.280000     2.000000     0.000000     1.728750\n",
       "50%       54.490000     3.000000     0.200000     8.666500\n",
       "75%      209.940000     5.000000     0.200000    29.364000\n",
       "max    22638.480000    14.000000     0.800000  8399.976000"
      ]
     },
     "execution_count": 12,
     "metadata": {},
     "output_type": "execute_result"
    }
   ],
   "source": [
    "# We are checking again for data as we now remove the unwanted columns\n",
    "\n",
    "df.describe()"
   ]
  },
  {
   "cell_type": "code",
   "execution_count": 13,
   "id": "18331482",
   "metadata": {},
   "outputs": [
    {
     "data": {
      "text/plain": [
       "50"
      ]
     },
     "execution_count": 13,
     "metadata": {},
     "output_type": "execute_result"
    }
   ],
   "source": [
    "df.duplicated().sum() # Finding Duplicate values"
   ]
  },
  {
   "cell_type": "code",
   "execution_count": 14,
   "id": "883283e8",
   "metadata": {},
   "outputs": [
    {
     "data": {
      "text/html": [
       "<div>\n",
       "<style scoped>\n",
       "    .dataframe tbody tr th:only-of-type {\n",
       "        vertical-align: middle;\n",
       "    }\n",
       "\n",
       "    .dataframe tbody tr th {\n",
       "        vertical-align: top;\n",
       "    }\n",
       "\n",
       "    .dataframe thead th {\n",
       "        text-align: right;\n",
       "    }\n",
       "</style>\n",
       "<table border=\"1\" class=\"dataframe\">\n",
       "  <thead>\n",
       "    <tr style=\"text-align: right;\">\n",
       "      <th></th>\n",
       "      <th>Ship Mode</th>\n",
       "      <th>Segment</th>\n",
       "      <th>Country</th>\n",
       "      <th>City</th>\n",
       "      <th>State</th>\n",
       "      <th>Region</th>\n",
       "      <th>Category</th>\n",
       "      <th>Sub-Category</th>\n",
       "      <th>Sales</th>\n",
       "      <th>Quantity</th>\n",
       "      <th>Discount</th>\n",
       "      <th>Profit</th>\n",
       "    </tr>\n",
       "  </thead>\n",
       "  <tbody>\n",
       "    <tr>\n",
       "      <th>0</th>\n",
       "      <td>Second Class</td>\n",
       "      <td>Consumer</td>\n",
       "      <td>United States</td>\n",
       "      <td>Henderson</td>\n",
       "      <td>Kentucky</td>\n",
       "      <td>South</td>\n",
       "      <td>Furniture</td>\n",
       "      <td>Bookcases</td>\n",
       "      <td>261.9600</td>\n",
       "      <td>2</td>\n",
       "      <td>0.00</td>\n",
       "      <td>41.9136</td>\n",
       "    </tr>\n",
       "    <tr>\n",
       "      <th>1</th>\n",
       "      <td>Second Class</td>\n",
       "      <td>Consumer</td>\n",
       "      <td>United States</td>\n",
       "      <td>Henderson</td>\n",
       "      <td>Kentucky</td>\n",
       "      <td>South</td>\n",
       "      <td>Furniture</td>\n",
       "      <td>Chairs</td>\n",
       "      <td>731.9400</td>\n",
       "      <td>3</td>\n",
       "      <td>0.00</td>\n",
       "      <td>219.5820</td>\n",
       "    </tr>\n",
       "    <tr>\n",
       "      <th>2</th>\n",
       "      <td>Second Class</td>\n",
       "      <td>Corporate</td>\n",
       "      <td>United States</td>\n",
       "      <td>Los Angeles</td>\n",
       "      <td>California</td>\n",
       "      <td>West</td>\n",
       "      <td>Office Supplies</td>\n",
       "      <td>Labels</td>\n",
       "      <td>14.6200</td>\n",
       "      <td>2</td>\n",
       "      <td>0.00</td>\n",
       "      <td>6.8714</td>\n",
       "    </tr>\n",
       "    <tr>\n",
       "      <th>3</th>\n",
       "      <td>Standard Class</td>\n",
       "      <td>Consumer</td>\n",
       "      <td>United States</td>\n",
       "      <td>Fort Lauderdale</td>\n",
       "      <td>Florida</td>\n",
       "      <td>South</td>\n",
       "      <td>Furniture</td>\n",
       "      <td>Tables</td>\n",
       "      <td>957.5775</td>\n",
       "      <td>5</td>\n",
       "      <td>0.45</td>\n",
       "      <td>-383.0310</td>\n",
       "    </tr>\n",
       "    <tr>\n",
       "      <th>4</th>\n",
       "      <td>Standard Class</td>\n",
       "      <td>Consumer</td>\n",
       "      <td>United States</td>\n",
       "      <td>Fort Lauderdale</td>\n",
       "      <td>Florida</td>\n",
       "      <td>South</td>\n",
       "      <td>Office Supplies</td>\n",
       "      <td>Storage</td>\n",
       "      <td>22.3680</td>\n",
       "      <td>2</td>\n",
       "      <td>0.20</td>\n",
       "      <td>2.5164</td>\n",
       "    </tr>\n",
       "    <tr>\n",
       "      <th>...</th>\n",
       "      <td>...</td>\n",
       "      <td>...</td>\n",
       "      <td>...</td>\n",
       "      <td>...</td>\n",
       "      <td>...</td>\n",
       "      <td>...</td>\n",
       "      <td>...</td>\n",
       "      <td>...</td>\n",
       "      <td>...</td>\n",
       "      <td>...</td>\n",
       "      <td>...</td>\n",
       "      <td>...</td>\n",
       "    </tr>\n",
       "    <tr>\n",
       "      <th>9989</th>\n",
       "      <td>Second Class</td>\n",
       "      <td>Consumer</td>\n",
       "      <td>United States</td>\n",
       "      <td>Miami</td>\n",
       "      <td>Florida</td>\n",
       "      <td>South</td>\n",
       "      <td>Furniture</td>\n",
       "      <td>Furnishings</td>\n",
       "      <td>25.2480</td>\n",
       "      <td>3</td>\n",
       "      <td>0.20</td>\n",
       "      <td>4.1028</td>\n",
       "    </tr>\n",
       "    <tr>\n",
       "      <th>9990</th>\n",
       "      <td>Standard Class</td>\n",
       "      <td>Consumer</td>\n",
       "      <td>United States</td>\n",
       "      <td>Costa Mesa</td>\n",
       "      <td>California</td>\n",
       "      <td>West</td>\n",
       "      <td>Furniture</td>\n",
       "      <td>Furnishings</td>\n",
       "      <td>91.9600</td>\n",
       "      <td>2</td>\n",
       "      <td>0.00</td>\n",
       "      <td>15.6332</td>\n",
       "    </tr>\n",
       "    <tr>\n",
       "      <th>9991</th>\n",
       "      <td>Standard Class</td>\n",
       "      <td>Consumer</td>\n",
       "      <td>United States</td>\n",
       "      <td>Costa Mesa</td>\n",
       "      <td>California</td>\n",
       "      <td>West</td>\n",
       "      <td>Technology</td>\n",
       "      <td>Phones</td>\n",
       "      <td>258.5760</td>\n",
       "      <td>2</td>\n",
       "      <td>0.20</td>\n",
       "      <td>19.3932</td>\n",
       "    </tr>\n",
       "    <tr>\n",
       "      <th>9992</th>\n",
       "      <td>Standard Class</td>\n",
       "      <td>Consumer</td>\n",
       "      <td>United States</td>\n",
       "      <td>Costa Mesa</td>\n",
       "      <td>California</td>\n",
       "      <td>West</td>\n",
       "      <td>Office Supplies</td>\n",
       "      <td>Paper</td>\n",
       "      <td>29.6000</td>\n",
       "      <td>4</td>\n",
       "      <td>0.00</td>\n",
       "      <td>13.3200</td>\n",
       "    </tr>\n",
       "    <tr>\n",
       "      <th>9993</th>\n",
       "      <td>Second Class</td>\n",
       "      <td>Consumer</td>\n",
       "      <td>United States</td>\n",
       "      <td>Westminster</td>\n",
       "      <td>California</td>\n",
       "      <td>West</td>\n",
       "      <td>Office Supplies</td>\n",
       "      <td>Appliances</td>\n",
       "      <td>243.1600</td>\n",
       "      <td>2</td>\n",
       "      <td>0.00</td>\n",
       "      <td>72.9480</td>\n",
       "    </tr>\n",
       "  </tbody>\n",
       "</table>\n",
       "<p>9944 rows × 12 columns</p>\n",
       "</div>"
      ],
      "text/plain": [
       "           Ship Mode    Segment        Country             City       State  \\\n",
       "0       Second Class   Consumer  United States        Henderson    Kentucky   \n",
       "1       Second Class   Consumer  United States        Henderson    Kentucky   \n",
       "2       Second Class  Corporate  United States      Los Angeles  California   \n",
       "3     Standard Class   Consumer  United States  Fort Lauderdale     Florida   \n",
       "4     Standard Class   Consumer  United States  Fort Lauderdale     Florida   \n",
       "...              ...        ...            ...              ...         ...   \n",
       "9989    Second Class   Consumer  United States            Miami     Florida   \n",
       "9990  Standard Class   Consumer  United States       Costa Mesa  California   \n",
       "9991  Standard Class   Consumer  United States       Costa Mesa  California   \n",
       "9992  Standard Class   Consumer  United States       Costa Mesa  California   \n",
       "9993    Second Class   Consumer  United States      Westminster  California   \n",
       "\n",
       "     Region         Category Sub-Category     Sales  Quantity  Discount  \\\n",
       "0     South        Furniture    Bookcases  261.9600         2      0.00   \n",
       "1     South        Furniture       Chairs  731.9400         3      0.00   \n",
       "2      West  Office Supplies       Labels   14.6200         2      0.00   \n",
       "3     South        Furniture       Tables  957.5775         5      0.45   \n",
       "4     South  Office Supplies      Storage   22.3680         2      0.20   \n",
       "...     ...              ...          ...       ...       ...       ...   \n",
       "9989  South        Furniture  Furnishings   25.2480         3      0.20   \n",
       "9990   West        Furniture  Furnishings   91.9600         2      0.00   \n",
       "9991   West       Technology       Phones  258.5760         2      0.20   \n",
       "9992   West  Office Supplies        Paper   29.6000         4      0.00   \n",
       "9993   West  Office Supplies   Appliances  243.1600         2      0.00   \n",
       "\n",
       "        Profit  \n",
       "0      41.9136  \n",
       "1     219.5820  \n",
       "2       6.8714  \n",
       "3    -383.0310  \n",
       "4       2.5164  \n",
       "...        ...  \n",
       "9989    4.1028  \n",
       "9990   15.6332  \n",
       "9991   19.3932  \n",
       "9992   13.3200  \n",
       "9993   72.9480  \n",
       "\n",
       "[9944 rows x 12 columns]"
      ]
     },
     "execution_count": 14,
     "metadata": {},
     "output_type": "execute_result"
    }
   ],
   "source": [
    "df.drop_duplicates() # Removing Duplicates value"
   ]
  },
  {
   "cell_type": "code",
   "execution_count": 15,
   "id": "4d0442a3",
   "metadata": {},
   "outputs": [
    {
     "data": {
      "text/plain": [
       "(9994, 12)"
      ]
     },
     "execution_count": 15,
     "metadata": {},
     "output_type": "execute_result"
    }
   ],
   "source": [
    "df.shape # Here we are finding our new shape"
   ]
  },
  {
   "cell_type": "code",
   "execution_count": 16,
   "id": "ffc234eb",
   "metadata": {},
   "outputs": [],
   "source": [
    "# Now we are looking for null values :"
   ]
  },
  {
   "cell_type": "code",
   "execution_count": 17,
   "id": "1415dc40",
   "metadata": {},
   "outputs": [
    {
     "data": {
      "text/plain": [
       "Ship Mode       0\n",
       "Segment         0\n",
       "Country         0\n",
       "City            0\n",
       "State           0\n",
       "Region          0\n",
       "Category        0\n",
       "Sub-Category    0\n",
       "Sales           0\n",
       "Quantity        0\n",
       "Discount        0\n",
       "Profit          0\n",
       "dtype: int64"
      ]
     },
     "execution_count": 17,
     "metadata": {},
     "output_type": "execute_result"
    }
   ],
   "source": [
    "df.isnull().sum()"
   ]
  },
  {
   "cell_type": "code",
   "execution_count": 18,
   "id": "420265fd",
   "metadata": {},
   "outputs": [],
   "source": [
    "# by looking this we get to know that there is no null value"
   ]
  },
  {
   "cell_type": "code",
   "execution_count": 19,
   "id": "bc6791b5",
   "metadata": {},
   "outputs": [
    {
     "name": "stdout",
     "output_type": "stream",
     "text": [
      "<class 'pandas.core.frame.DataFrame'>\n",
      "RangeIndex: 9994 entries, 0 to 9993\n",
      "Data columns (total 12 columns):\n",
      " #   Column        Non-Null Count  Dtype  \n",
      "---  ------        --------------  -----  \n",
      " 0   Ship Mode     9994 non-null   object \n",
      " 1   Segment       9994 non-null   object \n",
      " 2   Country       9994 non-null   object \n",
      " 3   City          9994 non-null   object \n",
      " 4   State         9994 non-null   object \n",
      " 5   Region        9994 non-null   object \n",
      " 6   Category      9994 non-null   object \n",
      " 7   Sub-Category  9994 non-null   object \n",
      " 8   Sales         9994 non-null   float64\n",
      " 9   Quantity      9994 non-null   int64  \n",
      " 10  Discount      9994 non-null   float64\n",
      " 11  Profit        9994 non-null   float64\n",
      "dtypes: float64(3), int64(1), object(8)\n",
      "memory usage: 937.1+ KB\n"
     ]
    }
   ],
   "source": [
    "# Now we looking for info of this data by taking help of info function of pandas \n",
    "\n",
    "df.info()"
   ]
  },
  {
   "cell_type": "code",
   "execution_count": 20,
   "id": "a251662b",
   "metadata": {},
   "outputs": [],
   "source": [
    "# we are now checking Data Types in given dataset:"
   ]
  },
  {
   "cell_type": "code",
   "execution_count": 21,
   "id": "8c5c358a",
   "metadata": {},
   "outputs": [
    {
     "data": {
      "text/plain": [
       "Ship Mode        object\n",
       "Segment          object\n",
       "Country          object\n",
       "City             object\n",
       "State            object\n",
       "Region           object\n",
       "Category         object\n",
       "Sub-Category     object\n",
       "Sales           float64\n",
       "Quantity          int64\n",
       "Discount        float64\n",
       "Profit          float64\n",
       "dtype: object"
      ]
     },
     "execution_count": 21,
     "metadata": {},
     "output_type": "execute_result"
    }
   ],
   "source": [
    "df.dtypes\n"
   ]
  },
  {
   "cell_type": "code",
   "execution_count": 22,
   "id": "cdcdebd9",
   "metadata": {},
   "outputs": [],
   "source": [
    "# Now we visualize data \n"
   ]
  },
  {
   "cell_type": "code",
   "execution_count": 23,
   "id": "6056f25e",
   "metadata": {},
   "outputs": [],
   "source": [
    "# we are importing libraries for graph purpose\n",
    "import seaborn as sns\n",
    "from matplotlib import pyplot as plt\n",
    "%matplotlib inline"
   ]
  },
  {
   "cell_type": "code",
   "execution_count": 24,
   "id": "364c4037",
   "metadata": {},
   "outputs": [
    {
     "data": {
      "text/plain": [
       "<AxesSubplot:xlabel='Category', ylabel='count'>"
      ]
     },
     "execution_count": 24,
     "metadata": {},
     "output_type": "execute_result"
    },
    {
     "data": {
      "image/png": "[encoded data removed]",
      "text/plain": [
       "<Figure size 432x288 with 1 Axes>"
      ]
     },
     "metadata": {
      "needs_background": "light"
     },
     "output_type": "display_data"
    }
   ],
   "source": [
    "sns.countplot(x = 'Category',data = df,palette = 'rocket_r') #here we getting categories of things store sells"
   ]
  },
  {
   "cell_type": "code",
   "execution_count": 25,
   "id": "58dc9df2",
   "metadata": {},
   "outputs": [
    {
     "data": {
      "image/png": "[encoded data removed]",
      "text/plain": [
       "<Figure size 1296x360 with 1 Axes>"
      ]
     },
     "metadata": {
      "needs_background": "light"
     },
     "output_type": "display_data"
    }
   ],
   "source": [
    "plt.figure(figsize=(18,5))\n",
    "plt.bar('Sub-Category','Category', data=df,color = 'Green')\n",
    "plt.show() # here we getting sub- category"
   ]
  },
  {
   "cell_type": "code",
   "execution_count": 26,
   "id": "52cab475",
   "metadata": {},
   "outputs": [],
   "source": [
    "# here we getting to know that in furniture business very less things we sell\n",
    "\n",
    "# for getting breif knowledge of sub-category we will make another graph:"
   ]
  },
  {
   "cell_type": "code",
   "execution_count": 27,
   "id": "e07cee85",
   "metadata": {},
   "outputs": [
    {
     "data": {
      "image/png": "[encoded data removed]",
      "text/plain": [
       "<Figure size 576x720 with 1 Axes>"
      ]
     },
     "metadata": {},
     "output_type": "display_data"
    }
   ],
   "source": [
    "plt.figure(figsize = (8,10))\n",
    "df['Sub-Category'].value_counts().plot.pie(autopct = '%.2f')\n",
    "plt.show()"
   ]
  },
  {
   "cell_type": "markdown",
   "id": "0f94514a",
   "metadata": {},
   "source": [
    "# Observations:\n",
    "- From above we get to know Blinders,Paper, Furnishings, Phones, storage, art, accessories we sell at large.\n",
    "- And we sell very minimum things like Copiers,Machine & suppliers"
   ]
  },
  {
   "cell_type": "code",
   "execution_count": 28,
   "id": "fbfdf778",
   "metadata": {},
   "outputs": [
    {
     "data": {
      "text/plain": [
       "array(['Kentucky', 'California', 'Florida', 'North Carolina',\n",
       "       'Washington', 'Texas', 'Wisconsin', 'Utah', 'Nebraska',\n",
       "       'Pennsylvania', 'Illinois', 'Minnesota', 'Michigan', 'Delaware',\n",
       "       'Indiana', 'New York', 'Arizona', 'Virginia', 'Tennessee',\n",
       "       'Alabama', 'South Carolina', 'Oregon', 'Colorado', 'Iowa', 'Ohio',\n",
       "       'Missouri', 'Oklahoma', 'New Mexico', 'Louisiana', 'Connecticut',\n",
       "       'New Jersey', 'Massachusetts', 'Georgia', 'Nevada', 'Rhode Island',\n",
       "       'Mississippi', 'Arkansas', 'Montana', 'New Hampshire', 'Maryland',\n",
       "       'District of Columbia', 'Kansas', 'Vermont', 'Maine',\n",
       "       'South Dakota', 'Idaho', 'North Dakota', 'Wyoming',\n",
       "       'West Virginia'], dtype=object)"
      ]
     },
     "execution_count": 28,
     "metadata": {},
     "output_type": "execute_result"
    }
   ],
   "source": [
    "df.State.unique()"
   ]
  },
  {
   "cell_type": "code",
   "execution_count": 29,
   "id": "1b25188d",
   "metadata": {},
   "outputs": [
    {
     "data": {
      "text/plain": [
       "California              2001\n",
       "New York                1128\n",
       "Texas                    985\n",
       "Pennsylvania             587\n",
       "Washington               506\n",
       "Illinois                 492\n",
       "Ohio                     469\n",
       "Florida                  383\n",
       "Michigan                 255\n",
       "North Carolina           249\n",
       "Arizona                  224\n",
       "Virginia                 224\n",
       "Georgia                  184\n",
       "Tennessee                183\n",
       "Colorado                 182\n",
       "Indiana                  149\n",
       "Kentucky                 139\n",
       "Massachusetts            135\n",
       "New Jersey               130\n",
       "Oregon                   124\n",
       "Wisconsin                110\n",
       "Maryland                 105\n",
       "Delaware                  96\n",
       "Minnesota                 89\n",
       "Connecticut               82\n",
       "Oklahoma                  66\n",
       "Missouri                  66\n",
       "Alabama                   61\n",
       "Arkansas                  60\n",
       "Rhode Island              56\n",
       "Utah                      53\n",
       "Mississippi               53\n",
       "Louisiana                 42\n",
       "South Carolina            42\n",
       "Nevada                    39\n",
       "Nebraska                  38\n",
       "New Mexico                37\n",
       "Iowa                      30\n",
       "New Hampshire             27\n",
       "Kansas                    24\n",
       "Idaho                     21\n",
       "Montana                   15\n",
       "South Dakota              12\n",
       "Vermont                   11\n",
       "District of Columbia      10\n",
       "Maine                      8\n",
       "North Dakota               7\n",
       "West Virginia              4\n",
       "Wyoming                    1\n",
       "Name: State, dtype: int64"
      ]
     },
     "execution_count": 29,
     "metadata": {},
     "output_type": "execute_result"
    }
   ],
   "source": [
    "df.State.value_counts()"
   ]
  },
  {
   "cell_type": "code",
   "execution_count": 30,
   "id": "736c98c1",
   "metadata": {},
   "outputs": [
    {
     "data": {
      "text/html": [
       "<div>\n",
       "<style scoped>\n",
       "    .dataframe tbody tr th:only-of-type {\n",
       "        vertical-align: middle;\n",
       "    }\n",
       "\n",
       "    .dataframe tbody tr th {\n",
       "        vertical-align: top;\n",
       "    }\n",
       "\n",
       "    .dataframe thead th {\n",
       "        text-align: right;\n",
       "    }\n",
       "</style>\n",
       "<table border=\"1\" class=\"dataframe\">\n",
       "  <thead>\n",
       "    <tr style=\"text-align: right;\">\n",
       "      <th></th>\n",
       "      <th>Ship Mode</th>\n",
       "      <th>Segment</th>\n",
       "      <th>Country</th>\n",
       "      <th>City</th>\n",
       "      <th>State</th>\n",
       "      <th>Region</th>\n",
       "      <th>Category</th>\n",
       "      <th>Sub-Category</th>\n",
       "      <th>Sales</th>\n",
       "      <th>Quantity</th>\n",
       "      <th>Discount</th>\n",
       "      <th>Profit</th>\n",
       "    </tr>\n",
       "  </thead>\n",
       "  <tbody>\n",
       "    <tr>\n",
       "      <th>0</th>\n",
       "      <td>Second Class</td>\n",
       "      <td>Consumer</td>\n",
       "      <td>United States</td>\n",
       "      <td>Henderson</td>\n",
       "      <td>Kentucky</td>\n",
       "      <td>South</td>\n",
       "      <td>Furniture</td>\n",
       "      <td>Bookcases</td>\n",
       "      <td>261.9600</td>\n",
       "      <td>2</td>\n",
       "      <td>0.00</td>\n",
       "      <td>41.9136</td>\n",
       "    </tr>\n",
       "    <tr>\n",
       "      <th>1</th>\n",
       "      <td>Second Class</td>\n",
       "      <td>Consumer</td>\n",
       "      <td>United States</td>\n",
       "      <td>Henderson</td>\n",
       "      <td>Kentucky</td>\n",
       "      <td>South</td>\n",
       "      <td>Furniture</td>\n",
       "      <td>Chairs</td>\n",
       "      <td>731.9400</td>\n",
       "      <td>3</td>\n",
       "      <td>0.00</td>\n",
       "      <td>219.5820</td>\n",
       "    </tr>\n",
       "    <tr>\n",
       "      <th>2</th>\n",
       "      <td>Second Class</td>\n",
       "      <td>Corporate</td>\n",
       "      <td>United States</td>\n",
       "      <td>Los Angeles</td>\n",
       "      <td>California</td>\n",
       "      <td>West</td>\n",
       "      <td>Office Supplies</td>\n",
       "      <td>Labels</td>\n",
       "      <td>14.6200</td>\n",
       "      <td>2</td>\n",
       "      <td>0.00</td>\n",
       "      <td>6.8714</td>\n",
       "    </tr>\n",
       "    <tr>\n",
       "      <th>3</th>\n",
       "      <td>Standard Class</td>\n",
       "      <td>Consumer</td>\n",
       "      <td>United States</td>\n",
       "      <td>Fort Lauderdale</td>\n",
       "      <td>Florida</td>\n",
       "      <td>South</td>\n",
       "      <td>Furniture</td>\n",
       "      <td>Tables</td>\n",
       "      <td>957.5775</td>\n",
       "      <td>5</td>\n",
       "      <td>0.45</td>\n",
       "      <td>-383.0310</td>\n",
       "    </tr>\n",
       "    <tr>\n",
       "      <th>4</th>\n",
       "      <td>Standard Class</td>\n",
       "      <td>Consumer</td>\n",
       "      <td>United States</td>\n",
       "      <td>Fort Lauderdale</td>\n",
       "      <td>Florida</td>\n",
       "      <td>South</td>\n",
       "      <td>Office Supplies</td>\n",
       "      <td>Storage</td>\n",
       "      <td>22.3680</td>\n",
       "      <td>2</td>\n",
       "      <td>0.20</td>\n",
       "      <td>2.5164</td>\n",
       "    </tr>\n",
       "    <tr>\n",
       "      <th>5</th>\n",
       "      <td>Standard Class</td>\n",
       "      <td>Consumer</td>\n",
       "      <td>United States</td>\n",
       "      <td>Los Angeles</td>\n",
       "      <td>California</td>\n",
       "      <td>West</td>\n",
       "      <td>Furniture</td>\n",
       "      <td>Furnishings</td>\n",
       "      <td>48.8600</td>\n",
       "      <td>7</td>\n",
       "      <td>0.00</td>\n",
       "      <td>14.1694</td>\n",
       "    </tr>\n",
       "    <tr>\n",
       "      <th>6</th>\n",
       "      <td>Standard Class</td>\n",
       "      <td>Consumer</td>\n",
       "      <td>United States</td>\n",
       "      <td>Los Angeles</td>\n",
       "      <td>California</td>\n",
       "      <td>West</td>\n",
       "      <td>Office Supplies</td>\n",
       "      <td>Art</td>\n",
       "      <td>7.2800</td>\n",
       "      <td>4</td>\n",
       "      <td>0.00</td>\n",
       "      <td>1.9656</td>\n",
       "    </tr>\n",
       "    <tr>\n",
       "      <th>7</th>\n",
       "      <td>Standard Class</td>\n",
       "      <td>Consumer</td>\n",
       "      <td>United States</td>\n",
       "      <td>Los Angeles</td>\n",
       "      <td>California</td>\n",
       "      <td>West</td>\n",
       "      <td>Technology</td>\n",
       "      <td>Phones</td>\n",
       "      <td>907.1520</td>\n",
       "      <td>6</td>\n",
       "      <td>0.20</td>\n",
       "      <td>90.7152</td>\n",
       "    </tr>\n",
       "    <tr>\n",
       "      <th>8</th>\n",
       "      <td>Standard Class</td>\n",
       "      <td>Consumer</td>\n",
       "      <td>United States</td>\n",
       "      <td>Los Angeles</td>\n",
       "      <td>California</td>\n",
       "      <td>West</td>\n",
       "      <td>Office Supplies</td>\n",
       "      <td>Binders</td>\n",
       "      <td>18.5040</td>\n",
       "      <td>3</td>\n",
       "      <td>0.20</td>\n",
       "      <td>5.7825</td>\n",
       "    </tr>\n",
       "    <tr>\n",
       "      <th>9</th>\n",
       "      <td>Standard Class</td>\n",
       "      <td>Consumer</td>\n",
       "      <td>United States</td>\n",
       "      <td>Los Angeles</td>\n",
       "      <td>California</td>\n",
       "      <td>West</td>\n",
       "      <td>Office Supplies</td>\n",
       "      <td>Appliances</td>\n",
       "      <td>114.9000</td>\n",
       "      <td>5</td>\n",
       "      <td>0.00</td>\n",
       "      <td>34.4700</td>\n",
       "    </tr>\n",
       "  </tbody>\n",
       "</table>\n",
       "</div>"
      ],
      "text/plain": [
       "        Ship Mode    Segment        Country             City       State  \\\n",
       "0    Second Class   Consumer  United States        Henderson    Kentucky   \n",
       "1    Second Class   Consumer  United States        Henderson    Kentucky   \n",
       "2    Second Class  Corporate  United States      Los Angeles  California   \n",
       "3  Standard Class   Consumer  United States  Fort Lauderdale     Florida   \n",
       "4  Standard Class   Consumer  United States  Fort Lauderdale     Florida   \n",
       "5  Standard Class   Consumer  United States      Los Angeles  California   \n",
       "6  Standard Class   Consumer  United States      Los Angeles  California   \n",
       "7  Standard Class   Consumer  United States      Los Angeles  California   \n",
       "8  Standard Class   Consumer  United States      Los Angeles  California   \n",
       "9  Standard Class   Consumer  United States      Los Angeles  California   \n",
       "\n",
       "  Region         Category Sub-Category     Sales  Quantity  Discount    Profit  \n",
       "0  South        Furniture    Bookcases  261.9600         2      0.00   41.9136  \n",
       "1  South        Furniture       Chairs  731.9400         3      0.00  219.5820  \n",
       "2   West  Office Supplies       Labels   14.6200         2      0.00    6.8714  \n",
       "3  South        Furniture       Tables  957.5775         5      0.45 -383.0310  \n",
       "4  South  Office Supplies      Storage   22.3680         2      0.20    2.5164  \n",
       "5   West        Furniture  Furnishings   48.8600         7      0.00   14.1694  \n",
       "6   West  Office Supplies          Art    7.2800         4      0.00    1.9656  \n",
       "7   West       Technology       Phones  907.1520         6      0.20   90.7152  \n",
       "8   West  Office Supplies      Binders   18.5040         3      0.20    5.7825  \n",
       "9   West  Office Supplies   Appliances  114.9000         5      0.00   34.4700  "
      ]
     },
     "execution_count": 30,
     "metadata": {},
     "output_type": "execute_result"
    }
   ],
   "source": [
    "df.head(10)"
   ]
  },
  {
   "cell_type": "code",
   "execution_count": 31,
   "id": "61779753",
   "metadata": {},
   "outputs": [
    {
     "data": {
      "text/plain": [
       "array(['Henderson', 'Los Angeles', 'Fort Lauderdale', 'Concord',\n",
       "       'Seattle', 'Fort Worth', 'Madison', 'West Jordan', 'San Francisco',\n",
       "       'Fremont', 'Philadelphia', 'Orem', 'Houston', 'Richardson',\n",
       "       'Naperville', 'Melbourne', 'Eagan', 'Westland', 'Dover',\n",
       "       'New Albany', 'New York City', 'Troy', 'Chicago', 'Gilbert',\n",
       "       'Springfield', 'Jackson', 'Memphis', 'Decatur', 'Durham',\n",
       "       'Columbia', 'Rochester', 'Minneapolis', 'Portland', 'Saint Paul',\n",
       "       'Aurora', 'Charlotte', 'Orland Park', 'Urbandale', 'Columbus',\n",
       "       'Bristol', 'Wilmington', 'Bloomington', 'Phoenix', 'Roseville',\n",
       "       'Independence', 'Pasadena', 'Newark', 'Franklin', 'Scottsdale',\n",
       "       'San Jose', 'Edmond', 'Carlsbad', 'San Antonio', 'Monroe',\n",
       "       'Fairfield', 'Grand Prairie', 'Redlands', 'Hamilton', 'Westfield',\n",
       "       'Akron', 'Denver', 'Dallas', 'Whittier', 'Saginaw', 'Medina',\n",
       "       'Dublin', 'Detroit', 'Tampa', 'Santa Clara', 'Lakeville',\n",
       "       'San Diego', 'Brentwood', 'Chapel Hill', 'Morristown',\n",
       "       'Cincinnati', 'Inglewood', 'Tamarac', 'Colorado Springs',\n",
       "       'Belleville', 'Taylor', 'Lakewood', 'Arlington', 'Arvada',\n",
       "       'Hackensack', 'Saint Petersburg', 'Long Beach', 'Hesperia',\n",
       "       'Murfreesboro', 'Layton', 'Austin', 'Lowell', 'Manchester',\n",
       "       'Harlingen', 'Tucson', 'Quincy', 'Pembroke Pines', 'Des Moines',\n",
       "       'Peoria', 'Las Vegas', 'Warwick', 'Miami', 'Huntington Beach',\n",
       "       'Richmond', 'Louisville', 'Lawrence', 'Canton', 'New Rochelle',\n",
       "       'Gastonia', 'Jacksonville', 'Auburn', 'Norman', 'Park Ridge',\n",
       "       'Amarillo', 'Lindenhurst', 'Huntsville', 'Fayetteville',\n",
       "       'Costa Mesa', 'Parker', 'Atlanta', 'Gladstone', 'Great Falls',\n",
       "       'Lakeland', 'Montgomery', 'Mesa', 'Green Bay', 'Anaheim',\n",
       "       'Marysville', 'Salem', 'Laredo', 'Grove City', 'Dearborn',\n",
       "       'Warner Robins', 'Vallejo', 'Mission Viejo', 'Rochester Hills',\n",
       "       'Plainfield', 'Sierra Vista', 'Vancouver', 'Cleveland', 'Tyler',\n",
       "       'Burlington', 'Waynesboro', 'Chester', 'Cary', 'Palm Coast',\n",
       "       'Mount Vernon', 'Hialeah', 'Oceanside', 'Evanston', 'Trenton',\n",
       "       'Cottage Grove', 'Bossier City', 'Lancaster', 'Asheville',\n",
       "       'Lake Elsinore', 'Omaha', 'Edmonds', 'Santa Ana', 'Milwaukee',\n",
       "       'Florence', 'Lorain', 'Linden', 'Salinas', 'New Brunswick',\n",
       "       'Garland', 'Norwich', 'Alexandria', 'Toledo', 'Farmington',\n",
       "       'Riverside', 'Torrance', 'Round Rock', 'Boca Raton',\n",
       "       'Virginia Beach', 'Murrieta', 'Olympia', 'Washington',\n",
       "       'Jefferson City', 'Saint Peters', 'Rockford', 'Brownsville',\n",
       "       'Yonkers', 'Oakland', 'Clinton', 'Encinitas', 'Roswell',\n",
       "       'Jonesboro', 'Antioch', 'Homestead', 'La Porte', 'Lansing',\n",
       "       'Cuyahoga Falls', 'Reno', 'Harrisonburg', 'Escondido', 'Royal Oak',\n",
       "       'Rockville', 'Coral Springs', 'Buffalo', 'Boynton Beach',\n",
       "       'Gulfport', 'Fresno', 'Greenville', 'Macon', 'Cedar Rapids',\n",
       "       'Providence', 'Pueblo', 'Deltona', 'Murray', 'Middletown',\n",
       "       'Freeport', 'Pico Rivera', 'Provo', 'Pleasant Grove', 'Smyrna',\n",
       "       'Parma', 'Mobile', 'New Bedford', 'Irving', 'Vineland', 'Glendale',\n",
       "       'Niagara Falls', 'Thomasville', 'Westminster', 'Coppell', 'Pomona',\n",
       "       'North Las Vegas', 'Allentown', 'Tempe', 'Laguna Niguel',\n",
       "       'Bridgeton', 'Everett', 'Watertown', 'Appleton', 'Bellevue',\n",
       "       'Allen', 'El Paso', 'Grapevine', 'Carrollton', 'Kent', 'Lafayette',\n",
       "       'Tigard', 'Skokie', 'Plano', 'Suffolk', 'Indianapolis', 'Bayonne',\n",
       "       'Greensboro', 'Baltimore', 'Kenosha', 'Olathe', 'Tulsa', 'Redmond',\n",
       "       'Raleigh', 'Muskogee', 'Meriden', 'Bowling Green', 'South Bend',\n",
       "       'Spokane', 'Keller', 'Port Orange', 'Medford', 'Charlottesville',\n",
       "       'Missoula', 'Apopka', 'Reading', 'Broomfield', 'Paterson',\n",
       "       'Oklahoma City', 'Chesapeake', 'Lubbock', 'Johnson City',\n",
       "       'San Bernardino', 'Leominster', 'Bozeman', 'Perth Amboy',\n",
       "       'Ontario', 'Rancho Cucamonga', 'Moorhead', 'Mesquite', 'Stockton',\n",
       "       'Ormond Beach', 'Sunnyvale', 'York', 'College Station',\n",
       "       'Saint Louis', 'Manteca', 'San Angelo', 'Salt Lake City',\n",
       "       'Knoxville', 'Little Rock', 'Lincoln Park', 'Marion', 'Littleton',\n",
       "       'Bangor', 'Southaven', 'New Castle', 'Midland', 'Sioux Falls',\n",
       "       'Fort Collins', 'Clarksville', 'Sacramento', 'Thousand Oaks',\n",
       "       'Malden', 'Holyoke', 'Albuquerque', 'Sparks', 'Coachella',\n",
       "       'Elmhurst', 'Passaic', 'North Charleston', 'Newport News',\n",
       "       'Jamestown', 'Mishawaka', 'La Quinta', 'Tallahassee', 'Nashville',\n",
       "       'Bellingham', 'Woodstock', 'Haltom City', 'Wheeling',\n",
       "       'Summerville', 'Hot Springs', 'Englewood', 'Las Cruces', 'Hoover',\n",
       "       'Frisco', 'Vacaville', 'Waukesha', 'Bakersfield', 'Pompano Beach',\n",
       "       'Corpus Christi', 'Redondo Beach', 'Orlando', 'Orange',\n",
       "       'Lake Charles', 'Highland Park', 'Hempstead', 'Noblesville',\n",
       "       'Apple Valley', 'Mount Pleasant', 'Sterling Heights', 'Eau Claire',\n",
       "       'Pharr', 'Billings', 'Gresham', 'Chattanooga', 'Meridian',\n",
       "       'Bolingbrook', 'Maple Grove', 'Woodland', 'Missouri City',\n",
       "       'Pearland', 'San Mateo', 'Grand Rapids', 'Visalia',\n",
       "       'Overland Park', 'Temecula', 'Yucaipa', 'Revere', 'Conroe',\n",
       "       'Tinley Park', 'Dubuque', 'Dearborn Heights', 'Santa Fe',\n",
       "       'Hickory', 'Carol Stream', 'Saint Cloud', 'North Miami',\n",
       "       'Plantation', 'Port Saint Lucie', 'Rock Hill', 'Odessa',\n",
       "       'West Allis', 'Chula Vista', 'Manhattan', 'Altoona', 'Thornton',\n",
       "       'Champaign', 'Texarkana', 'Edinburg', 'Baytown', 'Greenwood',\n",
       "       'Woonsocket', 'Superior', 'Bedford', 'Covington', 'Broken Arrow',\n",
       "       'Miramar', 'Hollywood', 'Deer Park', 'Wichita', 'Mcallen',\n",
       "       'Iowa City', 'Boise', 'Cranston', 'Port Arthur', 'Citrus Heights',\n",
       "       'The Colony', 'Daytona Beach', 'Bullhead City', 'Portage', 'Fargo',\n",
       "       'Elkhart', 'San Gabriel', 'Margate', 'Sandy Springs', 'Mentor',\n",
       "       'Lawton', 'Hampton', 'Rome', 'La Crosse', 'Lewiston',\n",
       "       'Hattiesburg', 'Danville', 'Logan', 'Waterbury', 'Athens',\n",
       "       'Avondale', 'Marietta', 'Yuma', 'Wausau', 'Pasco', 'Oak Park',\n",
       "       'Pensacola', 'League City', 'Gaithersburg', 'Lehi', 'Tuscaloosa',\n",
       "       'Moreno Valley', 'Georgetown', 'Loveland', 'Chandler', 'Helena',\n",
       "       'Kirkwood', 'Waco', 'Frankfort', 'Bethlehem', 'Grand Island',\n",
       "       'Woodbury', 'Rogers', 'Clovis', 'Jupiter', 'Santa Barbara',\n",
       "       'Cedar Hill', 'Norfolk', 'Draper', 'Ann Arbor', 'La Mesa',\n",
       "       'Pocatello', 'Holland', 'Milford', 'Buffalo Grove', 'Lake Forest',\n",
       "       'Redding', 'Chico', 'Utica', 'Conway', 'Cheyenne', 'Owensboro',\n",
       "       'Caldwell', 'Kenner', 'Nashua', 'Bartlett', 'Redwood City',\n",
       "       'Lebanon', 'Santa Maria', 'Des Plaines', 'Longview',\n",
       "       'Hendersonville', 'Waterloo', 'Cambridge', 'Palatine', 'Beverly',\n",
       "       'Eugene', 'Oxnard', 'Renton', 'Glenview', 'Delray Beach',\n",
       "       'Commerce City', 'Texas City', 'Wilson', 'Rio Rancho', 'Goldsboro',\n",
       "       'Montebello', 'El Cajon', 'Beaumont', 'West Palm Beach', 'Abilene',\n",
       "       'Normal', 'Saint Charles', 'Camarillo', 'Hillsboro', 'Burbank',\n",
       "       'Modesto', 'Garden City', 'Atlantic City', 'Longmont', 'Davis',\n",
       "       'Morgan Hill', 'Clifton', 'Sheboygan', 'East Point', 'Rapid City',\n",
       "       'Andover', 'Kissimmee', 'Shelton', 'Danbury', 'Sanford',\n",
       "       'San Marcos', 'Greeley', 'Mansfield', 'Elyria', 'Twin Falls',\n",
       "       'Coral Gables', 'Romeoville', 'Marlborough', 'Laurel', 'Bryan',\n",
       "       'Pine Bluff', 'Aberdeen', 'Hagerstown', 'East Orange',\n",
       "       'Arlington Heights', 'Oswego', 'Coon Rapids', 'San Clemente',\n",
       "       'San Luis Obispo', 'Springdale', 'Lodi', 'Mason'], dtype=object)"
      ]
     },
     "execution_count": 31,
     "metadata": {},
     "output_type": "execute_result"
    }
   ],
   "source": [
    "df.City.unique()"
   ]
  },
  {
   "cell_type": "code",
   "execution_count": 32,
   "id": "b2171953",
   "metadata": {},
   "outputs": [],
   "source": [
    "# For understanding segment "
   ]
  },
  {
   "cell_type": "code",
   "execution_count": 33,
   "id": "593ff650",
   "metadata": {},
   "outputs": [
    {
     "data": {
      "text/plain": [
       "<AxesSubplot:xlabel='Segment', ylabel='count'>"
      ]
     },
     "execution_count": 33,
     "metadata": {},
     "output_type": "execute_result"
    },
    {
     "data": {
      "image/png": "[encoded data removed]",
      "text/plain": [
       "<Figure size 432x288 with 1 Axes>"
      ]
     },
     "metadata": {
      "needs_background": "light"
     },
     "output_type": "display_data"
    }
   ],
   "source": [
    "sns.countplot(x = 'Segment',data = df,palette = 'rainbow')"
   ]
  },
  {
   "cell_type": "code",
   "execution_count": 35,
   "id": "86c636c9",
   "metadata": {},
   "outputs": [
    {
     "data": {
      "image/png": "[encoded data removed]",
      "text/plain": [
       "<Figure size 1080x864 with 1 Axes>"
      ]
     },
     "metadata": {
      "needs_background": "light"
     },
     "output_type": "display_data"
    }
   ],
   "source": [
    "plt.figure(figsize = (15,12))\n",
    "sns.countplot(x = 'State', data = df, palette = 'rainbow',order = df[\"State\"].value_counts().index)\n",
    "plt.xticks(rotation=90)\n",
    "plt.show()"
   ]
  },
  {
   "cell_type": "markdown",
   "id": "c8e49a3c",
   "metadata": {},
   "source": [
    "# Observations:\n",
    "### From above two we get to know that :\n",
    "- Highest No of buyers are from California,NewYork and Texas\n",
    "- lowest no of buyers are from West Virgnia and Wyoming\n",
    "- we deal with Consumer segment more as compared to other Corporate and Home office"
   ]
  },
  {
   "cell_type": "code",
   "execution_count": 36,
   "id": "f2e905a5",
   "metadata": {},
   "outputs": [
    {
     "data": {
      "text/plain": [
       "<AxesSubplot:xlabel='Region', ylabel='count'>"
      ]
     },
     "execution_count": 36,
     "metadata": {},
     "output_type": "execute_result"
    },
    {
     "data": {
      "image/png": "[encoded data removed]",
      "text/plain": [
       "<Figure size 432x288 with 1 Axes>"
      ]
     },
     "metadata": {
      "needs_background": "light"
     },
     "output_type": "display_data"
    }
   ],
   "source": [
    "sns.countplot(x = 'Region',data = df,palette = 'rainbow')"
   ]
  },
  {
   "cell_type": "markdown",
   "id": "01679f37",
   "metadata": {},
   "source": [
    "# Observation:\n",
    "- from here we getting to know that store sell mainly in West & East region"
   ]
  },
  {
   "cell_type": "code",
   "execution_count": 37,
   "id": "9c901477",
   "metadata": {},
   "outputs": [
    {
     "data": {
      "image/png": "[encoded data removed]",
      "text/plain": [
       "<Figure size 432x288 with 1 Axes>"
      ]
     },
     "metadata": {
      "needs_background": "light"
     },
     "output_type": "display_data"
    }
   ],
   "source": [
    "total_sales = df.groupby('City')['Sales'].sum()\n",
    "top_10_city_sales = total_sales.sort_values(ascending = False).iloc[0:10]\n",
    "top_10_city_sales.plot(kind = 'barh')\n",
    "plt.title ('Sales in Cities')\n",
    "plt.show()"
   ]
  },
  {
   "cell_type": "markdown",
   "id": "8b8499a1",
   "metadata": {},
   "source": [
    "# Observation:\n",
    "- Here we get to know that store sell most things to City like NewYork,Los Angeles,Seattle"
   ]
  },
  {
   "cell_type": "code",
   "execution_count": 38,
   "id": "05c36268",
   "metadata": {},
   "outputs": [
    {
     "data": {
      "image/png": "[encoded data removed]",
      "text/plain": [
       "<Figure size 432x288 with 1 Axes>"
      ]
     },
     "metadata": {
      "needs_background": "light"
     },
     "output_type": "display_data"
    }
   ],
   "source": [
    "total_profit = df.groupby('City')['Profit'].sum()\n",
    "top_10_profit = total_profit.sort_values(ascending = False).iloc[0:12]\n",
    "top_10_profit.plot(kind = 'barh')\n",
    "plt.title ('Most Profitable  Cities')\n",
    "plt.show()"
   ]
  },
  {
   "cell_type": "markdown",
   "id": "9621d00a",
   "metadata": {},
   "source": [
    "# Observations:\n",
    "- Here we get to know Most profitable cities for store is NewYork,Los Angeles,Seattle"
   ]
  },
  {
   "cell_type": "code",
   "execution_count": 40,
   "id": "fb85584b",
   "metadata": {},
   "outputs": [
    {
     "data": {
      "image/png": "[encoded data removed]",
      "text/plain": [
       "<Figure size 432x288 with 1 Axes>"
      ]
     },
     "metadata": {
      "needs_background": "light"
     },
     "output_type": "display_data"
    }
   ],
   "source": [
    "totalDiscount = df.groupby('City')['Discount'].sum()\n",
    "top_10_Dis = totalDiscount.sort_values(ascending = False).iloc[0:10]\n",
    "top_10_Dis.plot(kind = 'barh') \n",
    "plt.title('Most given Discount on Cities')\n",
    "plt.show()\n"
   ]
  },
  {
   "cell_type": "markdown",
   "id": "b8c0e73b",
   "metadata": {},
   "source": [
    "# Observations:\n",
    "- Here we get to know that we give more discount to cities like Philadelphia, Houston and Chicago\n",
    "###### We analyze now region column on the basis of shipment mode:"
   ]
  },
  {
   "cell_type": "code",
   "execution_count": 41,
   "id": "3ce0ec43",
   "metadata": {},
   "outputs": [
    {
     "data": {
      "text/plain": [
       "<Figure size 1296x864 with 0 Axes>"
      ]
     },
     "metadata": {},
     "output_type": "display_data"
    },
    {
     "data": {
      "image/png": "[encoded data removed]",
      "text/plain": [
       "<Figure size 864x216 with 4 Axes>"
      ]
     },
     "metadata": {
      "needs_background": "light"
     },
     "output_type": "display_data"
    }
   ],
   "source": [
    "plt.figure(figsize = (18,12))\n",
    "region_ship = sns.FacetGrid(df, col = 'Ship Mode')\n",
    "region_ship.map(sns.histplot,'Region')\n",
    "region_ship.set_ylabels('Number')\n",
    "plt.show()"
   ]
  },
  {
   "cell_type": "markdown",
   "id": "391fde93",
   "metadata": {},
   "source": [
    "# Observations:\n",
    "- central region people mostly use second class and standard class mode of shipment\n",
    "- Were as West region people prefer First Class & Same Day ship mode mostly."
   ]
  },
  {
   "cell_type": "code",
   "execution_count": 42,
   "id": "68b5fb46",
   "metadata": {},
   "outputs": [
    {
     "data": {
      "text/plain": [
       "<seaborn.axisgrid.FacetGrid at 0x1a5dc0fffa0>"
      ]
     },
     "execution_count": 42,
     "metadata": {},
     "output_type": "execute_result"
    },
    {
     "data": {
      "text/plain": [
       "<Figure size 1080x1080 with 0 Axes>"
      ]
     },
     "metadata": {},
     "output_type": "display_data"
    },
    {
     "data": {
      "image/png": "[encoded data removed]",
      "text/plain": [
       "<Figure size 864x216 with 4 Axes>"
      ]
     },
     "metadata": {
      "needs_background": "light"
     },
     "output_type": "display_data"
    }
   ],
   "source": [
    "plt.figure(figsize = (15,15))\n",
    "category = sns.FacetGrid(df, col = 'Region')\n",
    "category.map(sns.histplot, 'Category')\n",
    "category.set_ylabels(\"Numbers\")"
   ]
  },
  {
   "cell_type": "markdown",
   "id": "30a0d055",
   "metadata": {},
   "source": [
    "# Observations:\n",
    "- On South region store mostly sell Office Supplies.\n",
    "- On West region store mostly sell Furnitures.\n",
    "- On Central region store mostly sell Furnitures.\n",
    "- on East region store mostly sell Office Supplies."
   ]
  },
  {
   "cell_type": "code",
   "execution_count": 44,
   "id": "b4df40a4",
   "metadata": {},
   "outputs": [
    {
     "data": {
      "text/plain": [
       "<seaborn.axisgrid.FacetGrid at 0x1a5da5c3c40>"
      ]
     },
     "execution_count": 44,
     "metadata": {},
     "output_type": "execute_result"
    },
    {
     "data": {
      "text/plain": [
       "<Figure size 1080x1080 with 0 Axes>"
      ]
     },
     "metadata": {},
     "output_type": "display_data"
    },
    {
     "data": {
      "image/png": "[encoded data removed]",
      "text/plain": [
       "<Figure size 648x216 with 3 Axes>"
      ]
     },
     "metadata": {
      "needs_background": "light"
     },
     "output_type": "display_data"
    }
   ],
   "source": [
    "plt.figure(figsize = (15,15))\n",
    "Discount = sns.FacetGrid(df, col = 'Category')\n",
    "Discount.map(sns.histplot,'Discount')\n",
    "Discount.set_ylabels(\"Numbers\")"
   ]
  },
  {
   "cell_type": "code",
   "execution_count": 45,
   "id": "e065e33f",
   "metadata": {},
   "outputs": [
    {
     "data": {
      "text/plain": [
       "<seaborn.axisgrid.FacetGrid at 0x1a5da6782b0>"
      ]
     },
     "execution_count": 45,
     "metadata": {},
     "output_type": "execute_result"
    },
    {
     "data": {
      "text/plain": [
       "<Figure size 1080x1080 with 0 Axes>"
      ]
     },
     "metadata": {},
     "output_type": "display_data"
    },
    {
     "data": {
      "image/png": "[encoded data removed]",
      "text/plain": [
       "<Figure size 864x216 with 4 Axes>"
      ]
     },
     "metadata": {
      "needs_background": "light"
     },
     "output_type": "display_data"
    }
   ],
   "source": [
    "plt.figure(figsize = (15,15))\n",
    "Discount = sns.FacetGrid(df, col = 'Region')\n",
    "Discount.map(sns.histplot,'Discount')\n",
    "Discount.set_ylabels(\"Numbers\")"
   ]
  },
  {
   "cell_type": "code",
   "execution_count": 46,
   "id": "d37dfa1f",
   "metadata": {},
   "outputs": [
    {
     "data": {
      "text/plain": [
       "<Figure size 864x792 with 0 Axes>"
      ]
     },
     "metadata": {},
     "output_type": "display_data"
    },
    {
     "data": {
      "image/png": "[encoded data removed]",
      "text/plain": [
       "<Figure size 864x216 with 4 Axes>"
      ]
     },
     "metadata": {
      "needs_background": "light"
     },
     "output_type": "display_data"
    }
   ],
   "source": [
    "plt.figure(figsize = (12,11))\n",
    "profitdf = sns.FacetGrid(df,col = 'Region')\n",
    "profitdf.map(sns.histplot,'Profit')\n",
    "profitdf.set_ylabels(\"numbers\")\n",
    "plt.show()"
   ]
  },
  {
   "cell_type": "code",
   "execution_count": 47,
   "id": "d110567f",
   "metadata": {},
   "outputs": [
    {
     "data": {
      "text/plain": [
       "<Figure size 864x864 with 0 Axes>"
      ]
     },
     "metadata": {},
     "output_type": "display_data"
    },
    {
     "data": {
      "image/png": "[encoded data removed]",
      "text/plain": [
       "<Figure size 648x216 with 3 Axes>"
      ]
     },
     "metadata": {
      "needs_background": "light"
     },
     "output_type": "display_data"
    }
   ],
   "source": [
    "plt.figure(figsize= (12,12))\n",
    "profit_ = sns.FacetGrid(df,col = 'Category')\n",
    "profit_.map(sns.histplot,'Profit')\n",
    "profit_set_ylabels = 'Numbers'\n",
    "plt.show()"
   ]
  },
  {
   "cell_type": "code",
   "execution_count": 48,
   "id": "0c3e5c72",
   "metadata": {},
   "outputs": [
    {
     "name": "stderr",
     "output_type": "stream",
     "text": [
      "C:\\Users\\rupal\\AppData\\Local\\Temp/ipykernel_15524/3786788056.py:1: FutureWarning: Indexing with multiple keys (implicitly converted to a tuple of keys) will be deprecated, use a list instead.\n",
      "  category = df.groupby(\"State\")[\"Profit\", \"Sales\"].sum()\n"
     ]
    },
    {
     "data": {
      "text/plain": [
       "<AxesSubplot:xlabel='State'>"
      ]
     },
     "execution_count": 48,
     "metadata": {},
     "output_type": "execute_result"
    },
    {
     "data": {
      "image/png": "[encoded data removed]",
      "text/plain": [
       "<Figure size 1440x720 with 1 Axes>"
      ]
     },
     "metadata": {
      "needs_background": "light"
     },
     "output_type": "display_data"
    }
   ],
   "source": [
    "category = df.groupby(\"State\")[\"Profit\", \"Sales\"].sum()\n",
    "category.plot.bar(figsize=(20,10))"
   ]
  },
  {
   "cell_type": "code",
   "execution_count": 49,
   "id": "34371e50",
   "metadata": {},
   "outputs": [
    {
     "data": {
      "text/plain": [
       "<Figure size 864x864 with 0 Axes>"
      ]
     },
     "metadata": {},
     "output_type": "display_data"
    },
    {
     "data": {
      "image/png": "[encoded data removed]",
      "text/plain": [
       "<Figure size 648x216 with 3 Axes>"
      ]
     },
     "metadata": {
      "needs_background": "light"
     },
     "output_type": "display_data"
    }
   ],
   "source": [
    "plt.figure(figsize = (12,12))\n",
    "quan = sns.FacetGrid(df,col = 'Category')\n",
    "quan.map(sns.histplot,\"Quantity\")\n",
    "quan_set_labels = 'Numbers'\n",
    "plt.show()"
   ]
  },
  {
   "cell_type": "code",
   "execution_count": 50,
   "id": "f7798c4e",
   "metadata": {},
   "outputs": [
    {
     "data": {
      "text/plain": [
       "Text(0.5, 1.0, 'Sub Category Wise Sales')"
      ]
     },
     "execution_count": 50,
     "metadata": {},
     "output_type": "execute_result"
    },
    {
     "data": {
      "image/png": "[encoded data removed]",
      "text/plain": [
       "<Figure size 1440x360 with 1 Axes>"
      ]
     },
     "metadata": {
      "needs_background": "light"
     },
     "output_type": "display_data"
    }
   ],
   "source": [
    "plt.figure(figsize=(20,5))\n",
    "sns.barplot(x='Sub-Category',y='Sales', data=df, palette = 'rainbow')\n",
    "plt.title('Sub Category Wise Sales')\n"
   ]
  },
  {
   "cell_type": "code",
   "execution_count": 51,
   "id": "f62bcfbc",
   "metadata": {},
   "outputs": [
    {
     "data": {
      "text/plain": [
       "(array([0, 1, 2]),\n",
       " [Text(0, 0, 'Furniture'),\n",
       "  Text(1, 0, 'Office Supplies'),\n",
       "  Text(2, 0, 'Technology')])"
      ]
     },
     "execution_count": 51,
     "metadata": {},
     "output_type": "execute_result"
    },
    {
     "data": {
      "image/png": "[encoded data removed]",
      "text/plain": [
       "<Figure size 1296x648 with 1 Axes>"
      ]
     },
     "metadata": {
      "needs_background": "light"
     },
     "output_type": "display_data"
    }
   ],
   "source": [
    "plt.figure(figsize=(18,9))\n",
    "plt.title('Category VS Sub-Category')\n",
    "sns.countplot(x=df['Category'],hue=df['Sub-Category'],palette='rainbow')\n",
    "plt.xticks()"
   ]
  },
  {
   "cell_type": "code",
   "execution_count": 52,
   "id": "0deffc5b",
   "metadata": {},
   "outputs": [
    {
     "data": {
      "image/png": "[encoded data removed]",
      "text/plain": [
       "<Figure size 864x720 with 4 Axes>"
      ]
     },
     "metadata": {
      "needs_background": "light"
     },
     "output_type": "display_data"
    }
   ],
   "source": [
    "import warnings\n",
    "warnings.filterwarnings('ignore')\n",
    "fig, axs = plt.subplots(ncols=2, nrows = 2, figsize = (12,10))\n",
    "sns.distplot(df['Sales'], color = 'green',  ax = axs[0][0])\n",
    "sns.distplot(df['Profit'], color = 'orange',  ax = axs[0][1])\n",
    "sns.distplot(df['Quantity'], color = 'red',  ax = axs[1][0])\n",
    "sns.distplot(df['Discount'], color = 'blue',  ax = axs[1][1])\n",
    "axs[0][0].set_title('Sales Distribution', fontsize = 20)\n",
    "axs[0][1].set_title('Profit Distribution', fontsize = 20)\n",
    "axs[1][0].set_title('Quantity distribution', fontsize = 20)\n",
    "axs[1][1].set_title('Discount Distribution', fontsize = 20)\n",
    "plt.show()"
   ]
  },
  {
   "cell_type": "markdown",
   "id": "b5f650bb",
   "metadata": {},
   "source": [
    "#Conclusion:\n",
    "- Profits and sales are highly correlated.\n",
    "- In category, Furniture has large no. of sales but instead of making profit, it makes loss. So, there is need to limit the sales of Furniture.\n",
    "- States like California, NewYork, Washington,Michigan, Indiana, Virginia, Georgia makes good profit. So, sales can be increased in these states.\n",
    "- States like Texas, Pennsylvania, Ohio and lllinosis has huge sales but it makes big loss. So, there is need to reduce the sales in these states and we have to give some good Discounts,and Great Deals to attract them. We need to work on this state.\n",
    "- In sub-category Phones have high sales.\n",
    "# Thankyou !!"
   ]
  },
  {
   "cell_type": "code",
   "execution_count": null,
   "id": "945383fc",
   "metadata": {},
   "outputs": [],
   "source": []
  }
 ],
 "metadata": {
  "kernelspec": {
   "display_name": "Python 3 (ipykernel)",
   "language": "python",
   "name": "python3"
  },
  "language_info": {
   "codemirror_mode": {
    "name": "ipython",
    "version": 3
   },
   "file_extension": ".py",
   "mimetype": "text/x-python",
   "name": "python",
   "nbconvert_exporter": "python",
   "pygments_lexer": "ipython3",
   "version": "3.9.7"
  }
 },
 "nbformat": 4,
 "nbformat_minor": 5
}
